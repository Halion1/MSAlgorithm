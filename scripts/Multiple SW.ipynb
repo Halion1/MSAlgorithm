{
 "cells": [
  {
   "cell_type": "code",
   "execution_count": 1,
   "id": "360b5be8",
   "metadata": {},
   "outputs": [],
   "source": [
    "#Importing the necesary biopython library\n",
    "import Bio\n",
    "import time\n",
    "from prettytable import PrettyTable"
   ]
  },
  {
   "cell_type": "code",
   "execution_count": 2,
   "id": "4b3ba90e",
   "metadata": {},
   "outputs": [
    {
     "name": "stdout",
     "output_type": "stream",
     "text": [
      "GATTCA\n",
      "GAT-CA\n"
     ]
    }
   ],
   "source": [
    "def smith_waterman(A, B, match_score=2, mismatch_score=-1, gap_penalty=-1):\n",
    "    m, n = len(A), len(B)\n",
    "    H = [[0 for x in range(n+1)] for y in range(m+1)]\n",
    "\n",
    "    for i in range(1, m+1):\n",
    "        for j in range(1, n+1):\n",
    "            match = H[i-1][j-1] + (match_score if A[i-1] == B[j-1] else mismatch_score)\n",
    "            delete = H[i-1][j] + gap_penalty\n",
    "            insert = H[i][j-1] + gap_penalty\n",
    "            H[i][j] = max(match, delete, insert, 0)\n",
    "    \n",
    "    # Traceback\n",
    "    a, b = '', ''\n",
    "    i, j = max([(i, j) for i in range(m+1) for j in range(n+1)], key=lambda x: H[x[0]][x[1]])\n",
    "    while H[i][j] != 0:\n",
    "        current_score = H[i][j]\n",
    "        if i > 0 and H[i][j] == H[i-1][j] + gap_penalty:\n",
    "            a += A[i-1]\n",
    "            b += '-'\n",
    "            i -= 1\n",
    "        elif j > 0 and H[i][j] == H[i][j-1] + gap_penalty:\n",
    "            a += '-'\n",
    "            b += B[j-1]\n",
    "            j -= 1\n",
    "        else:\n",
    "            a += A[i-1]\n",
    "            b += B[j-1]\n",
    "            i -= 1\n",
    "            j -= 1\n",
    "\n",
    "    return a[::-1], b[::-1]\n",
    "\n",
    "# Test\n",
    "A = \"GATTCA\"\n",
    "B = \"GATCA\"\n",
    "alignmentA, alignmentB = smith_waterman(A, B)\n",
    "print(alignmentA)\n",
    "print(alignmentB)"
   ]
  },
  {
   "cell_type": "code",
   "execution_count": 3,
   "id": "80564f60",
   "metadata": {},
   "outputs": [],
   "source": [
    "def read_fasta(file_name):\n",
    "    \"\"\"\n",
    "    Reads a .fasta file and returns the sequences and descriptions in separate lists.\n",
    "\n",
    "    Args:\n",
    "    - file_name (str): Name of the .fasta file.\n",
    "\n",
    "    Returns:\n",
    "    - sequences (list of str): List of sequences from the file.\n",
    "    - descriptions (list of str): List of sequence descriptions from the file.\n",
    "    \"\"\"\n",
    "    \n",
    "    sequences = []\n",
    "    descriptions = []\n",
    "\n",
    "    with open(file_name, 'r') as file:\n",
    "        sequence = ''\n",
    "        description = None\n",
    "        \n",
    "        for line in file:\n",
    "            line = line.strip()\n",
    "\n",
    "            if line.startswith('>'):\n",
    "                if description:  # this checks if there's a previously read sequence description\n",
    "                    sequences.append(sequence)\n",
    "                    sequence = ''\n",
    "\n",
    "                description = line[1:]  # remove the '>'\n",
    "                descriptions.append(description)\n",
    "\n",
    "            else:\n",
    "                sequence += line\n",
    "\n",
    "        if sequence:  # add the last read sequence\n",
    "            sequences.append(sequence)\n",
    "\n",
    "    return sequences, descriptions"
   ]
  },
  {
   "cell_type": "code",
   "execution_count": 4,
   "id": "fd150110",
   "metadata": {},
   "outputs": [],
   "source": [
    "def multiple_sw_alignment(sequences):\n",
    "    if len(sequences) < 2:\n",
    "        return sequences\n",
    "    \n",
    "    # Align the first two sequences\n",
    "    aligned_seq1, aligned_seq2 = smith_waterman(sequences[0], sequences[1])\n",
    "\n",
    "    if len(sequences) == 2:\n",
    "        return [aligned_seq1, aligned_seq2]\n",
    "\n",
    "    # Combine the aligned sequences into a list\n",
    "    aligned_seqs = [aligned_seq1, aligned_seq2]\n",
    "\n",
    "    for seq in sequences[2:]:\n",
    "        new_aligned_seqs = []\n",
    "\n",
    "        for aligned_seq in aligned_seqs:\n",
    "            # Pairwise align the current sequence with each previously aligned sequence\n",
    "            aligned_seq, new_seq = smith_waterman(aligned_seq, seq)\n",
    "            new_aligned_seqs.append(new_seq)\n",
    "        \n",
    "        aligned_seqs = new_aligned_seqs\n",
    "\n",
    "    return aligned_seqs"
   ]
  },
  {
   "cell_type": "code",
   "execution_count": 5,
   "id": "88813a93",
   "metadata": {},
   "outputs": [],
   "source": [
    "def select_sequences(sequences, descriptions, indices):\n",
    "    \"\"\"\n",
    "    Selects sequences and their descriptions based on given indices.\n",
    "\n",
    "    Args:\n",
    "    - sequences (list of str): List of sequences.\n",
    "    - descriptions (list of str): List of sequence descriptions.\n",
    "    - indices (list of int): List of indices of sequences to select.\n",
    "\n",
    "    Returns:\n",
    "    - selected_sequences (list of str): List of selected sequences.\n",
    "    - selected_descriptions (list of str): List of selected sequence descriptions.\n",
    "    \"\"\"\n",
    "    \n",
    "    selected_sequences = [sequences[i] for i in indices]\n",
    "    selected_descriptions = [descriptions[i] for i in indices]\n",
    "\n",
    "    return selected_sequences, selected_descriptions"
   ]
  },
  {
   "cell_type": "code",
   "execution_count": 6,
   "id": "69fc64c8",
   "metadata": {},
   "outputs": [],
   "source": [
    "def align_selected_sequences(sequences, descriptions, indices):\n",
    "    selected_sequences, selected_descriptions = select_sequences(sequences, descriptions, indices)\n",
    "    aligned_sequences = multiple_sw_alignment(selected_sequences)\n",
    "    \n",
    "    print(\"\\nAlignment of sequences:\", indices)\n",
    "    for desc, seq in zip(selected_descriptions, aligned_sequences):\n",
    "        print(desc)\n",
    "        print(seq)\n",
    "\n",
    "    return aligned_sequences"
   ]
  },
  {
   "cell_type": "code",
   "execution_count": 7,
   "id": "5c93967c",
   "metadata": {},
   "outputs": [
    {
     "name": "stdout",
     "output_type": "stream",
     "text": [
      "Enter the indices of the sequences you want to align (comma separated): 1, 2\n"
     ]
    },
    {
     "ename": "MemoryError",
     "evalue": "",
     "output_type": "error",
     "traceback": [
      "\u001b[1;31m---------------------------------------------------------------------------\u001b[0m",
      "\u001b[1;31mMemoryError\u001b[0m                               Traceback (most recent call last)",
      "Input \u001b[1;32mIn [7]\u001b[0m, in \u001b[0;36m<cell line: 11>\u001b[1;34m()\u001b[0m\n\u001b[0;32m      9\u001b[0m \u001b[38;5;66;03m# Align the sequences based on the selected indices\u001b[39;00m\n\u001b[0;32m     10\u001b[0m start_time \u001b[38;5;241m=\u001b[39m time\u001b[38;5;241m.\u001b[39mtime()  \u001b[38;5;66;03m# Start timing\u001b[39;00m\n\u001b[1;32m---> 11\u001b[0m \u001b[43malign_selected_sequences\u001b[49m\u001b[43m(\u001b[49m\u001b[43msequences\u001b[49m\u001b[43m,\u001b[49m\u001b[43m \u001b[49m\u001b[43mdescriptions\u001b[49m\u001b[43m,\u001b[49m\u001b[43m \u001b[49m\u001b[43mindices_list\u001b[49m\u001b[43m)\u001b[49m\n\u001b[0;32m     12\u001b[0m end_time \u001b[38;5;241m=\u001b[39m time\u001b[38;5;241m.\u001b[39mtime()  \u001b[38;5;66;03m# End timing\u001b[39;00m\n\u001b[0;32m     13\u001b[0m \u001b[38;5;28mprint\u001b[39m(\u001b[38;5;124m\"\u001b[39m\u001b[38;5;124mComputational time:\u001b[39m\u001b[38;5;124m\"\u001b[39m, end_time\u001b[38;5;241m-\u001b[39mstart_time)\n",
      "Input \u001b[1;32mIn [6]\u001b[0m, in \u001b[0;36malign_selected_sequences\u001b[1;34m(sequences, descriptions, indices)\u001b[0m\n\u001b[0;32m      1\u001b[0m \u001b[38;5;28;01mdef\u001b[39;00m \u001b[38;5;21malign_selected_sequences\u001b[39m(sequences, descriptions, indices):\n\u001b[0;32m      2\u001b[0m     selected_sequences, selected_descriptions \u001b[38;5;241m=\u001b[39m select_sequences(sequences, descriptions, indices)\n\u001b[1;32m----> 3\u001b[0m     aligned_sequences \u001b[38;5;241m=\u001b[39m \u001b[43mmultiple_sw_alignment\u001b[49m\u001b[43m(\u001b[49m\u001b[43mselected_sequences\u001b[49m\u001b[43m)\u001b[49m\n\u001b[0;32m      5\u001b[0m     \u001b[38;5;28mprint\u001b[39m(\u001b[38;5;124m\"\u001b[39m\u001b[38;5;130;01m\\n\u001b[39;00m\u001b[38;5;124mAlignment of sequences:\u001b[39m\u001b[38;5;124m\"\u001b[39m, indices)\n\u001b[0;32m      6\u001b[0m     \u001b[38;5;28;01mfor\u001b[39;00m desc, seq \u001b[38;5;129;01min\u001b[39;00m \u001b[38;5;28mzip\u001b[39m(selected_descriptions, aligned_sequences):\n",
      "Input \u001b[1;32mIn [4]\u001b[0m, in \u001b[0;36mmultiple_sw_alignment\u001b[1;34m(sequences)\u001b[0m\n\u001b[0;32m      3\u001b[0m     \u001b[38;5;28;01mreturn\u001b[39;00m sequences\n\u001b[0;32m      5\u001b[0m \u001b[38;5;66;03m# Align the first two sequences\u001b[39;00m\n\u001b[1;32m----> 6\u001b[0m aligned_seq1, aligned_seq2 \u001b[38;5;241m=\u001b[39m \u001b[43msmith_waterman\u001b[49m\u001b[43m(\u001b[49m\u001b[43msequences\u001b[49m\u001b[43m[\u001b[49m\u001b[38;5;241;43m0\u001b[39;49m\u001b[43m]\u001b[49m\u001b[43m,\u001b[49m\u001b[43m \u001b[49m\u001b[43msequences\u001b[49m\u001b[43m[\u001b[49m\u001b[38;5;241;43m1\u001b[39;49m\u001b[43m]\u001b[49m\u001b[43m)\u001b[49m\n\u001b[0;32m      8\u001b[0m \u001b[38;5;28;01mif\u001b[39;00m \u001b[38;5;28mlen\u001b[39m(sequences) \u001b[38;5;241m==\u001b[39m \u001b[38;5;241m2\u001b[39m:\n\u001b[0;32m      9\u001b[0m     \u001b[38;5;28;01mreturn\u001b[39;00m [aligned_seq1, aligned_seq2]\n",
      "Input \u001b[1;32mIn [2]\u001b[0m, in \u001b[0;36msmith_waterman\u001b[1;34m(A, B, match_score, mismatch_score, gap_penalty)\u001b[0m\n\u001b[0;32m     12\u001b[0m \u001b[38;5;66;03m# Traceback\u001b[39;00m\n\u001b[0;32m     13\u001b[0m a, b \u001b[38;5;241m=\u001b[39m \u001b[38;5;124m'\u001b[39m\u001b[38;5;124m'\u001b[39m, \u001b[38;5;124m'\u001b[39m\u001b[38;5;124m'\u001b[39m\n\u001b[1;32m---> 14\u001b[0m i, j \u001b[38;5;241m=\u001b[39m \u001b[38;5;28mmax\u001b[39m([(i, j) \u001b[38;5;28;01mfor\u001b[39;00m i \u001b[38;5;129;01min\u001b[39;00m \u001b[38;5;28mrange\u001b[39m(m\u001b[38;5;241m+\u001b[39m\u001b[38;5;241m1\u001b[39m) \u001b[38;5;28;01mfor\u001b[39;00m j \u001b[38;5;129;01min\u001b[39;00m \u001b[38;5;28mrange\u001b[39m(n\u001b[38;5;241m+\u001b[39m\u001b[38;5;241m1\u001b[39m)], key\u001b[38;5;241m=\u001b[39m\u001b[38;5;28;01mlambda\u001b[39;00m x: H[x[\u001b[38;5;241m0\u001b[39m]][x[\u001b[38;5;241m1\u001b[39m]])\n\u001b[0;32m     15\u001b[0m \u001b[38;5;28;01mwhile\u001b[39;00m H[i][j] \u001b[38;5;241m!=\u001b[39m \u001b[38;5;241m0\u001b[39m:\n\u001b[0;32m     16\u001b[0m     current_score \u001b[38;5;241m=\u001b[39m H[i][j]\n",
      "Input \u001b[1;32mIn [2]\u001b[0m, in \u001b[0;36m<listcomp>\u001b[1;34m(.0)\u001b[0m\n\u001b[0;32m     12\u001b[0m \u001b[38;5;66;03m# Traceback\u001b[39;00m\n\u001b[0;32m     13\u001b[0m a, b \u001b[38;5;241m=\u001b[39m \u001b[38;5;124m'\u001b[39m\u001b[38;5;124m'\u001b[39m, \u001b[38;5;124m'\u001b[39m\u001b[38;5;124m'\u001b[39m\n\u001b[1;32m---> 14\u001b[0m i, j \u001b[38;5;241m=\u001b[39m \u001b[38;5;28mmax\u001b[39m([(i, j) \u001b[38;5;28;01mfor\u001b[39;00m i \u001b[38;5;129;01min\u001b[39;00m \u001b[38;5;28mrange\u001b[39m(m\u001b[38;5;241m+\u001b[39m\u001b[38;5;241m1\u001b[39m) \u001b[38;5;28;01mfor\u001b[39;00m j \u001b[38;5;129;01min\u001b[39;00m \u001b[38;5;28mrange\u001b[39m(n\u001b[38;5;241m+\u001b[39m\u001b[38;5;241m1\u001b[39m)], key\u001b[38;5;241m=\u001b[39m\u001b[38;5;28;01mlambda\u001b[39;00m x: H[x[\u001b[38;5;241m0\u001b[39m]][x[\u001b[38;5;241m1\u001b[39m]])\n\u001b[0;32m     15\u001b[0m \u001b[38;5;28;01mwhile\u001b[39;00m H[i][j] \u001b[38;5;241m!=\u001b[39m \u001b[38;5;241m0\u001b[39m:\n\u001b[0;32m     16\u001b[0m     current_score \u001b[38;5;241m=\u001b[39m H[i][j]\n",
      "\u001b[1;31mMemoryError\u001b[0m: "
     ]
    }
   ],
   "source": [
    "# Read the .fasta file\n",
    "file_name = \"COVID-GENOMES.fasta\"\n",
    "sequences, descriptions = read_fasta(file_name)\n",
    "\n",
    "# Get sequence indices from the user\n",
    "sequence_indices = input(\"Enter the indices of the sequences you want to align (comma separated): \")\n",
    "indices_list = list(map(int, sequence_indices.split(',')))\n",
    "\n",
    "# Align the sequences based on the selected indices\n",
    "start_time = time.time()  # Start timing\n",
    "align_selected_sequences(sequences, descriptions, indices_list)\n",
    "end_time = time.time()  # End timing\n",
    "print(\"Computational time:\", end_time-start_time)"
   ]
  },
  {
   "cell_type": "code",
   "execution_count": null,
   "id": "c5825f9a",
   "metadata": {},
   "outputs": [],
   "source": []
  }
 ],
 "metadata": {
  "kernelspec": {
   "display_name": "Python 3 (ipykernel)",
   "language": "python",
   "name": "python3"
  },
  "language_info": {
   "codemirror_mode": {
    "name": "ipython",
    "version": 3
   },
   "file_extension": ".py",
   "mimetype": "text/x-python",
   "name": "python",
   "nbconvert_exporter": "python",
   "pygments_lexer": "ipython3",
   "version": "3.8.12"
  }
 },
 "nbformat": 4,
 "nbformat_minor": 5
}
