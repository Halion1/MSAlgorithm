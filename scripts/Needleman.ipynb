{
 "cells": [
  {
   "cell_type": "code",
   "execution_count": null,
   "id": "3fc3185d",
   "metadata": {},
   "outputs": [],
   "source": [
    "import time\n",
    "from functionneedle import *\n",
    "import matplotlib.pyplot as plt\n",
    "from protein import *\n",
    "from dna import *\n",
    "from memory_profiler import memory_usage\n",
    "\n",
    "def read_fasta(file_path):\n",
    "    \"\"\"Read sequences from a FASTA file and return as a list.\"\"\"\n",
    "    # C:\\Users\\USUARIO\\PycharmProjects\\Alingment\\spike.txt\n",
    "    try:\n",
    "        with open(file_path, 'r') as file:\n",
    "            sequences = []\n",
    "            sequence = ''\n",
    "            for line in file:\n",
    "                if line.startswith('>'):\n",
    "                    if sequence:\n",
    "                        sequences.append(sequence)\n",
    "                        sequence = ''\n",
    "                    continue\n",
    "                sequence += line.strip()\n",
    "            if sequence:  # To handle the last sequence in the file\n",
    "                sequences.append(sequence)\n",
    "        return sequences\n",
    "    except OSError:\n",
    "        print(f\"Error opening file at path: {file_path}\")\n",
    "        exit()"
   ]
  },
  {
   "cell_type": "code",
   "execution_count": null,
   "id": "6c6878d8",
   "metadata": {},
   "outputs": [],
   "source": [
    "# HERE STARTS THE PROGRAM\n",
    "file_path = str(input(\"Insert your file path (.txt / .fasta): \"))  # Replace with your file path\n",
    "sequences = read_fasta(file_path)\n",
    "# Instead of printing sequences, print their lengths\n",
    "for idx, seq in enumerate(sequences, 1):\n",
    "    print(f\"Sequence {idx} length: {len(seq)}\")\n",
    "\n",
    "# Batches for alignment: 2, 5, 10, ... up to total number of sequences\n",
    "batches = [2, 5]  # [2, 5, 10, 15, 20, 25, 30]\n",
    "times = []\n",
    "\n",
    "# Perform alignments for each batch\n",
    "for batch in batches:\n",
    "    if batch > len(sequences):\n",
    "        break\n",
    "\n",
    "    selected_sequences = sequences[:batch]\n",
    "    start_time = time.time()\n",
    "    aligned_sequences = multiple_sequence_alignment(selected_sequences)\n",
    "    end_time = time.time()\n",
    "    elapsed_time = end_time - start_time\n",
    "    times.append(elapsed_time)\n",
    "\n",
    "    # Optional: Display the aligned sequences\n",
    "    print(f\"\\nAligned sequences for batch {batch}:\")\n",
    "    for seq in aligned_sequences:\n",
    "        print(seq)\n",
    "\n",
    "# Plot the times as bars\n",
    "plt.bar(batches[:len(times)], times)\n",
    "plt.xlabel('Number of sequences')\n",
    "plt.ylabel('Time taken (seconds)')\n",
    "plt.title('Time taken for alignment of sequences')\n",
    "plt.show()"
   ]
  }
 ],
 "metadata": {
  "kernelspec": {
   "display_name": "Python 3 (ipykernel)",
   "language": "python",
   "name": "python3"
  },
  "language_info": {
   "codemirror_mode": {
    "name": "ipython",
    "version": 3
   },
   "file_extension": ".py",
   "mimetype": "text/x-python",
   "name": "python",
   "nbconvert_exporter": "python",
   "pygments_lexer": "ipython3",
   "version": "3.8.12"
  }
 },
 "nbformat": 4,
 "nbformat_minor": 5
}
