{
 "cells": [
  {
   "cell_type": "code",
   "execution_count": 1,
   "id": "acc41bfd",
   "metadata": {},
   "outputs": [],
   "source": [
    "#Importing the necesary biopython library\n",
    "import Bio\n",
    "import time\n",
    "from prettytable import PrettyTable"
   ]
  },
  {
   "cell_type": "code",
   "execution_count": 2,
   "id": "f19b6e03",
   "metadata": {},
   "outputs": [],
   "source": [
    "# Smith-Waterman function from previous response\n",
    "def smith_waterman(A, B, match_score=2, mismatch_score=-1, gap_penalty=-1):\n",
    "    m, n = len(A), len(B)\n",
    "    H = [[0 for x in range(n+1)] for y in range(m+1)]\n",
    "\n",
    "    for i in range(1, m+1):\n",
    "        for j in range(1, n+1):\n",
    "            match = H[i-1][j-1] + (match_score if A[i-1] == B[j-1] else mismatch_score)\n",
    "            delete = H[i-1][j] + gap_penalty\n",
    "            insert = H[i][j-1] + gap_penalty\n",
    "            H[i][j] = max(match, delete, insert, 0)\n",
    "    \n",
    "    # Traceback\n",
    "    a, b = '', ''\n",
    "    i, j = max([(i, j) for i in range(m+1) for j in range(n+1)], key=lambda x: H[x[0]][x[1]])\n",
    "    while H[i][j] != 0:\n",
    "        current_score = H[i][j]\n",
    "        if i > 0 and H[i][j] == H[i-1][j] + gap_penalty:\n",
    "            a += A[i-1]\n",
    "            b += '-'\n",
    "            i -= 1\n",
    "        elif j > 0 and H[i][j] == H[i][j-1] + gap_penalty:\n",
    "            a += '-'\n",
    "            b += B[j-1]\n",
    "            j -= 1\n",
    "        else:\n",
    "            a += A[i-1]\n",
    "            b += B[j-1]\n",
    "            i -= 1\n",
    "            j -= 1\n",
    "\n",
    "    return a[::-1], b[::-1]"
   ]
  },
  {
   "cell_type": "code",
   "execution_count": 3,
   "id": "8799a7a9",
   "metadata": {},
   "outputs": [
    {
     "name": "stdout",
     "output_type": "stream",
     "text": [
      "GATTCA\n",
      "GAT-CA\n"
     ]
    }
   ],
   "source": [
    "# Test\n",
    "A = \"GATTCA\"\n",
    "B = \"GATCA\"\n",
    "alignmentA, alignmentB = smith_waterman(A, B)\n",
    "print(alignmentA)\n",
    "print(alignmentB)"
   ]
  },
  {
   "cell_type": "code",
   "execution_count": 4,
   "id": "77267224",
   "metadata": {},
   "outputs": [],
   "source": [
    "def read_fasta(file_name):\n",
    "    \"\"\"\n",
    "    Reads a .fasta file and returns the sequences and descriptions in separate lists.\n",
    "\n",
    "    Args:\n",
    "    - file_name (str): Name of the .fasta file.\n",
    "\n",
    "    Returns:\n",
    "    - sequences (list of str): List of sequences from the file.\n",
    "    - descriptions (list of str): List of sequence descriptions from the file.\n",
    "    \"\"\"\n",
    "    \n",
    "    sequences = []\n",
    "    descriptions = []\n",
    "\n",
    "    with open(file_name, 'r') as file:\n",
    "        sequence = ''\n",
    "        description = None\n",
    "        \n",
    "        for line in file:\n",
    "            line = line.strip()\n",
    "\n",
    "            if line.startswith('>'):\n",
    "                if description:  # this checks if there's a previously read sequence description\n",
    "                    sequences.append(sequence)\n",
    "                    sequence = ''\n",
    "\n",
    "                description = line[1:]  # remove the '>'\n",
    "                descriptions.append(description)\n",
    "\n",
    "            else:\n",
    "                sequence += line\n",
    "\n",
    "        if sequence:  # add the last read sequence\n",
    "            sequences.append(sequence)\n",
    "\n",
    "    return sequences, descriptions"
   ]
  },
  {
   "cell_type": "code",
   "execution_count": 5,
   "id": "9494d80c",
   "metadata": {},
   "outputs": [],
   "source": [
    "# Modified function to display the results\n",
    "#def align_selected_sequences(sequences, descriptions, indices):\n",
    "#    for i in range(len(indices) - 1):\n",
    "#        for j in range(i + 1, len(indices)):\n",
    "#            print(f\"Aligning:\\n{descriptions[indices[i]]}\\n{descriptions[indices[j]]}\\n\")\n",
    "#            alignmentA, alignmentB = smith_waterman(sequences[indices[i]], sequences[indices[j]])\n",
    "            #print(colorize_sequence(alignmentA))\n",
    "            #print(colorize_sequence(alignmentB))\n",
    "            #print(\"\\n\" + \"-\"*50 + \"\\n\")\n",
    "\n",
    "            # Align selected sequences\n",
    "def align_selected_sequences(sequences, indices):\n",
    "    for i in range(len(indices) - 1):\n",
    "        for j in range(i + 1, len(indices)):\n",
    "            print(f\"Aligning sequence {indices[i]} and sequence {indices[j]}:\")\n",
    "            alignmentA, alignmentB = smith_waterman(sequences[indices[i]], sequences[indices[j]])\n",
    "            print(\"Alignment 1:\")\n",
    "            print(alignmentA)\n",
    "            print(\"\\nAlignment 2:\")\n",
    "            print(alignmentB)\n",
    "            print(\"\\n\" + \"-\"*50 + \"\\n\")\n"
   ]
  },
  {
   "cell_type": "code",
   "execution_count": 6,
   "id": "aeefd521",
   "metadata": {},
   "outputs": [],
   "source": [
    "COLORS = {\n",
    "    'A': '\\033[91m',  # Red\n",
    "    'C': '\\033[92m',  # Green\n",
    "    'D': '\\033[93m',  # Yellow\n",
    "    'E': '\\033[94m',  # Blue\n",
    "    'F': '\\033[95m',  # Magenta\n",
    "    'G': '\\033[96m',  # Cyan\n",
    "    'H': '\\033[97m',  # White\n",
    "    'I': '\\033[41m',  # Red background\n",
    "    'K': '\\033[42m',  # Green background\n",
    "    'L': '\\033[43m',  # Yellow background\n",
    "    'M': '\\033[44m',  # Blue background\n",
    "    'N': '\\033[45m',  # Magenta background\n",
    "    'P': '\\033[46m',  # Cyan background\n",
    "    'Q': '\\033[47m',  # White background\n",
    "    'R': '\\033[100m', # Bright Black background\n",
    "    'S': '\\033[101m', # Bright Red background\n",
    "    'T': '\\033[102m', # Bright Green background\n",
    "    'V': '\\033[103m', # Bright Yellow background\n",
    "    'W': '\\033[104m', # Bright Blue background\n",
    "    'Y': '\\033[105m', # Bright Magenta background\n",
    "    '-': '\\033[0m',   # Reset\n",
    "    'reset': '\\033[0m'\n",
    "}\n",
    "def colorize_sequence(sequence):\n",
    "    return ''.join(COLORS.get(nucleotide, COLORS['reset']) + nucleotide + COLORS['reset'] for nucleotide in sequence)"
   ]
  },
  {
   "cell_type": "code",
   "execution_count": null,
   "id": "abcc5ad6",
   "metadata": {
    "scrolled": true
   },
   "outputs": [
    {
     "name": "stdout",
     "output_type": "stream",
     "text": [
      "Enter the indices of the sequences you want to align (comma separated): 1, 2\n",
      "Aligning:\n",
      "accn|OP370189   OP370189.1   [Severe acute respiratory syndrome coronavirus 2 strain SARS-CoV-2/human/USA/GA-CDC-STM-BUUA3B3QF/2022 strain SARS-CoV-2/Human/USA/GA-CDC-STM-BUUA3B3QF/2022 | 2697049.6553178]\n",
      "accn|OP370368   OP370368.1   [Severe acute respiratory syndrome coronavirus 2 strain SARS-CoV-2/human/USA/CO-CDC-STM-GV6KGWQXZ/2022 strain SARS-CoV-2/Human/USA/CO-CDC-STM-GV6KGWQXZ/2022 | 2697049.6553532]\n",
      "\n"
     ]
    }
   ],
   "source": [
    "# Main\n",
    "file_name = \"COVID-GENOMES.fasta\"\n",
    "sequences, descriptions = read_fasta(file_name)\n",
    "\n",
    "# Get sequence indices from the user\n",
    "sequence_indices = input(\"Enter the indices of the sequences you want to align (comma separated): \")\n",
    "indices_list = list(map(int, sequence_indices.split(',')))\n",
    "\n",
    "# Align the sequences based on the selected indices\n",
    "start_time = time.time()  # Start timing\n",
    "align_selected_sequences(sequences, descriptions, indices_list)\n",
    "end_time = time.time()  # End timing\n",
    "print(end_time-start_time)"
   ]
  },
  {
   "cell_type": "code",
   "execution_count": null,
   "id": "72f2efea",
   "metadata": {},
   "outputs": [],
   "source": [
    "print(sequences)"
   ]
  },
  {
   "cell_type": "code",
   "execution_count": null,
   "id": "4aaae414",
   "metadata": {},
   "outputs": [],
   "source": [
    "def create_table():\n",
    "    x = PrettyTable()\n",
    "\n",
    "    # Define the table header\n",
    "    x.field_names = [\"\", \"Computational time 1\", \"Computational time 2\", \"Computational time 3\", \"Computational time 4\", \"Computational time 5\"]\n",
    "\n",
    "    # Predefined alignments to test\n",
    "    alignments_to_test = [\n",
    "        (1, 2),\n",
    "        (1, 2, 3, 4, 5),\n",
    "        (0, 1, 2, 3, 4, 5, 6, 7, 8, 9),\n",
    "        (0, 1, 2, 3, 4, 5, 6, 7, 8, 9, 10, 11, 12, 13, 14)\n",
    "    ]\n",
    "\n",
    "    # For each alignment set, calculate the computational time\n",
    "    all_times = []\n",
    "    for alignment_set in alignments_to_test:\n",
    "        start_time = time.time()\n",
    "        \n",
    "        # Align sequences (without printing)\n",
    "        for i in range(len(alignment_set) - 1):\n",
    "            for j in range(i + 1, len(alignment_set)):\n",
    "                smith_waterman(sequences[alignment_set[i]], sequences[alignment_set[j]])\n",
    "        \n",
    "        end_time = time.time()\n",
    "        all_times.append(end_time - start_time)\n",
    "\n",
    "    # Add the results to the table\n",
    "    x.add_row([\"Alignment 1 and 2\", all_times[0], \"\", \"\", \"\", \"\"])\n",
    "    x.add_row([\"Alignment 1, 2,3,4,5\", all_times[0], all_times[1], \"\", \"\", \"\"])\n",
    "    x.add_row([\"Alignment 0,1,2,3,4,5,6,7,8,9\", all_times[0], all_times[1], all_times[2], \"\", \"\"])\n",
    "    x.add_row([\"Alignment0,1,2,3,4,5,6,7,8,9,10,11,12,13,14\", all_times[0], all_times[1], all_times[2], all_times[3], \"\"])\n",
    "    \n",
    "    print(x)"
   ]
  },
  {
   "cell_type": "code",
   "execution_count": null,
   "id": "8d014bca",
   "metadata": {},
   "outputs": [],
   "source": [
    "# Main part of the code\n",
    "sequences, descriptions = read_fasta(\"sequence_spike_protein - Copy.txt\")\n",
    "create_table()"
   ]
  },
  {
   "cell_type": "code",
   "execution_count": null,
   "id": "44845719",
   "metadata": {},
   "outputs": [],
   "source": []
  }
 ],
 "metadata": {
  "kernelspec": {
   "display_name": "Python 3 (ipykernel)",
   "language": "python",
   "name": "python3"
  },
  "language_info": {
   "codemirror_mode": {
    "name": "ipython",
    "version": 3
   },
   "file_extension": ".py",
   "mimetype": "text/x-python",
   "name": "python",
   "nbconvert_exporter": "python",
   "pygments_lexer": "ipython3",
   "version": "3.8.12"
  }
 },
 "nbformat": 4,
 "nbformat_minor": 5
}
